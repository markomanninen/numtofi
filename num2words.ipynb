{
  "cells": [
    {
      "cell_type": "markdown",
      "source": [
        "# Kirjaimet yhdestä miljoonaan sanoina\n",
        "\n",
        "Tässä Jupyter notebookissa käytetään numtofi ja num2words Python moduuleja laskemaan suomenkielisten lukusanojen kirjanten määrä sekä vertaillaan sitä muiden kielten (Englanti, Ruotsi, Saksa) vastaaviin tuloksiin.\n",
        "\n",
        "## Vaadittavat moduulit"
      ],
      "metadata": {
        "noteable": {
          "cell_type": "markdown"
        }
      },
      "id": "770bb9f5-ce57-485c-ba80-1072ed45a178"
    },
    {
      "cell_type": "code",
      "source": [
        "!pip install -q num2words\n",
        "!pip install -q numtofi"
      ],
      "outputs": [],
      "execution_count": null,
      "metadata": {
        "noteable": {
          "cell_type": "code"
        },
        "ExecuteTime": {
          "start_time": "2023-08-20T06:11:36.682713+00:00",
          "end_time": "2023-08-20T06:11:45.853011+00:00"
        }
      },
      "id": "d6269ea3-3c2a-49c8-bb13-c5ee12dc5185"
    },
    {
      "cell_type": "code",
      "source": [
        "from num2words import num2words\n",
        "from numtofi import number_to_text"
      ],
      "outputs": [],
      "execution_count": null,
      "metadata": {
        "jupyter": {
          "source_hidden": false,
          "outputs_hidden": false
        },
        "noteable": {
          "cell_type": "code"
        },
        "ExecuteTime": {
          "start_time": "2023-08-20T06:11:45.861712+00:00",
          "end_time": "2023-08-20T06:11:46.019011+00:00"
        }
      },
      "id": "71fe34c2-c645-4b4a-9528-96d69bebd315"
    },
    {
      "cell_type": "markdown",
      "source": [
        "## Apufunktiot"
      ],
      "metadata": {
        "noteable": {
          "cell_type": "markdown"
        }
      },
      "id": "616490d5-19fb-4ab2-889f-cecaeb73b91b"
    },
    {
      "cell_type": "code",
      "source": [
        "# Define different typing speeds (words per minute)\n",
        "# Source: ChatGPT\n",
        "writing_speeds = {\n",
        "    'käsin': 16.5,  # average handwriting speed, 13-20\n",
        "    'kirjoituskoneella': 40,  # average typewriter speed, 30-50\n",
        "    'kirjoituskoneella_pika': 80,  # average typewriter speed, 50-80\n",
        "    'tietokoneella': 65,  # average computer typing speed, 40-90\n",
        "    'tietokoneella_pika': 120,  # average computer typing speed, 90-120\n",
        "    'saneltuna': 150  # average dictation speed, 100-200\n",
        "}\n",
        "\n",
        "def avg_word_length_up_to_n(n, func):\n",
        "    total_length = total_words = 0\n",
        "    for i in range(1, n+1):\n",
        "        word = func(i)\n",
        "        y = list(len(x) for x in word.split(\" \"))\n",
        "        total_words += len(y)\n",
        "        total_length += sum(y)\n",
        "    \n",
        "    return total_length / total_words\n",
        "\n",
        "def _days_to_write_numbers(total_letters, h, avg_word_length):\n",
        "    # Calculate the time required for each method\n",
        "    time_required = {}\n",
        "    for method, speed in writing_speeds.items():\n",
        "        total_words = total_letters / avg_word_length\n",
        "        total_minutes = total_words / speed\n",
        "        days = total_minutes / (60 * h)  # assuming 8 hours of work per day\n",
        "        time_required[method] = days\n",
        "\n",
        "    return total_letters, time_required\n",
        "\n",
        "def days_to_write_numbers_fi(n=1000000, h = 24, avg_word_length = 5, spaces = True):\n",
        "    return _days_to_write_numbers(sum([len(number_to_text(i, spaces)) for i in range(1, n + 1)]), h, avg_word_length)\n",
        "\n",
        "def days_to_write_numbers(n=1000000, lang=\"fi\", h = 24, avg_word_length = 5, spaces = True):\n",
        "    return _days_to_write_numbers(sum([len(num2words(i, lang=lang).replace(' ', ' ' if spaces else '')) for i in range(1, n + 1)]), h, avg_word_length)\n",
        "\n",
        "def totals(total_letters, writing_speed_per_minute, time_spent_in_days, avg_word_length = 5):\n",
        "    daily_letters = total_letters / time_spent_in_days\n",
        "    words_per_day = daily_letters / avg_word_length\n",
        "    minutes_per_day = words_per_day / writing_speed_per_minute\n",
        "    return {\n",
        "        'total_letters': total_letters,\n",
        "        'time_spent_in_days': time_spent_in_days,\n",
        "        'daily_letters': daily_letters, \n",
        "        'avg_word_length': avg_word_length,\n",
        "        'words_per_day': words_per_day, \n",
        "        'writing_speed_per_minute': writing_speed_per_minute, \n",
        "        'minutes_per_day': minutes_per_day\n",
        "    }"
      ],
      "outputs": [],
      "execution_count": null,
      "metadata": {
        "jupyter": {
          "source_hidden": false,
          "outputs_hidden": false
        },
        "noteable": {
          "cell_type": "code"
        },
        "ExecuteTime": {
          "start_time": "2023-08-20T08:08:25.275223+00:00",
          "end_time": "2023-08-20T08:08:25.443360+00:00"
        }
      },
      "id": "f17deafd-2e8b-46af-8b9c-436318d8fd61"
    },
    {
      "cell_type": "markdown",
      "source": [
        "## Statistiikka"
      ],
      "metadata": {
        "noteable": {
          "cell_type": "markdown"
        }
      },
      "id": "303400c1-4ff8-4806-af15-92fcebfeb76c"
    },
    {
      "cell_type": "code",
      "source": [
        "total_letters_en, days_to_write_en = days_to_write_numbers(lang='en')"
      ],
      "outputs": [],
      "execution_count": null,
      "metadata": {
        "jupyter": {
          "source_hidden": false,
          "outputs_hidden": false
        },
        "noteable": {
          "cell_type": "code"
        },
        "ExecuteTime": {
          "start_time": "2023-08-20T07:13:30.766943+00:00",
          "end_time": "2023-08-20T07:15:32.817116+00:00"
        }
      },
      "id": "b47ef06f-5ddd-486a-b7de-8b539debef00"
    },
    {
      "cell_type": "code",
      "source": [
        "total_letters_sv, days_to_write_sv = days_to_write_numbers(lang='sv')"
      ],
      "outputs": [],
      "execution_count": null,
      "metadata": {
        "jupyter": {
          "source_hidden": false,
          "outputs_hidden": false
        },
        "noteable": {
          "cell_type": "code"
        },
        "ExecuteTime": {
          "start_time": "2023-08-20T07:15:32.868423+00:00",
          "end_time": "2023-08-20T07:19:43.162285+00:00"
        }
      },
      "id": "62f9ef75-5014-4013-818c-da2ca8e75fbd"
    },
    {
      "cell_type": "code",
      "source": [
        "total_letters_de, days_to_write_de = days_to_write_numbers(lang='de')"
      ],
      "outputs": [],
      "execution_count": null,
      "metadata": {
        "jupyter": {
          "source_hidden": false,
          "outputs_hidden": false
        },
        "noteable": {
          "cell_type": "code"
        },
        "ExecuteTime": {
          "start_time": "2023-08-20T07:19:43.169662+00:00",
          "end_time": "2023-08-20T07:23:58.072298+00:00"
        }
      },
      "id": "3a88a762-e5d5-4b65-a63b-0175b8cec1af"
    },
    {
      "cell_type": "code",
      "source": [
        "total_letters_fi, days_to_write_fi = days_to_write_numbers_fi()"
      ],
      "outputs": [],
      "execution_count": null,
      "metadata": {
        "jupyter": {
          "source_hidden": false,
          "outputs_hidden": false
        },
        "noteable": {
          "cell_type": "code"
        },
        "ExecuteTime": {
          "start_time": "2023-08-20T07:23:58.082967+00:00",
          "end_time": "2023-08-20T07:24:06.256425+00:00"
        }
      },
      "id": "47eeaa6d-7b20-4a1c-aa9f-bb53a77ac94f"
    },
    {
      "cell_type": "code",
      "source": [
        "totals(total_letters_en, writing_speeds[\"kirjoituskoneella\"], (16*365+7*30), 5.2)"
      ],
      "outputs": [
        {
          "output_type": "execute_result",
          "execution_count": null,
          "data": {
            "text/plain": "{'total_letters': 60313716,\n 'time_spent_in_days': 6050,\n 'daily_letters': 9969.209256198346,\n 'avg_word_length': 5.2,\n 'words_per_day': 1917.1556261919895,\n 'writing_speed_per_minute': 60,\n 'minutes_per_day': 31.952593769866493}"
          },
          "metadata": {}
        }
      ],
      "execution_count": null,
      "metadata": {
        "jupyter": {
          "outputs_hidden": false,
          "source_hidden": false
        },
        "noteable": {
          "cell_type": "code"
        },
        "ExecuteTime": {
          "start_time": "2023-08-20T07:24:06.475294+00:00",
          "end_time": "2023-08-20T07:24:06.635150+00:00"
        }
      },
      "id": "eaa90577-1a63-4a3e-8ceb-cf28e237b880"
    },
    {
      "cell_type": "code",
      "source": [
        "(totals(total_letters_fi, writing_speeds[\"kirjoituskoneella\"], (16*365+7*30), 5.2),\n",
        " totals(total_letters_fi, writing_speeds[\"tietokoneella_pika\"], (16*365+7*30), 5.2),\n",
        " # work days\n",
        " totals(total_letters_fi, writing_speeds[\"kirjoituskoneella\"], 10*240, 5.2),\n",
        " totals(total_letters_fi, writing_speeds[\"tietokoneella_pika\"], 10*240, 5.2))"
      ],
      "outputs": [
        {
          "output_type": "execute_result",
          "execution_count": null,
          "data": {
            "text/plain": "({'total_letters': 62224010,\n  'time_spent_in_days': 6050,\n  'daily_letters': 10284.960330578513,\n  'avg_word_length': 5.2,\n  'words_per_day': 1977.876986649714,\n  'writing_speed_per_minute': 40,\n  'minutes_per_day': 49.44692466624285},\n {'total_letters': 62224010,\n  'time_spent_in_days': 6050,\n  'daily_letters': 10284.960330578513,\n  'avg_word_length': 5.2,\n  'words_per_day': 1977.876986649714,\n  'writing_speed_per_minute': 120,\n  'minutes_per_day': 16.48230822208095},\n {'total_letters': 62224010,\n  'time_spent_in_days': 2400,\n  'daily_letters': 25926.670833333334,\n  'avg_word_length': 5.2,\n  'words_per_day': 4985.898237179487,\n  'writing_speed_per_minute': 40,\n  'minutes_per_day': 124.64745592948718},\n {'total_letters': 62224010,\n  'time_spent_in_days': 2400,\n  'daily_letters': 25926.670833333334,\n  'avg_word_length': 5.2,\n  'words_per_day': 4985.898237179487,\n  'writing_speed_per_minute': 120,\n  'minutes_per_day': 41.54915197649573})"
          },
          "metadata": {}
        }
      ],
      "execution_count": null,
      "metadata": {
        "jupyter": {
          "source_hidden": false,
          "outputs_hidden": false
        },
        "noteable": {
          "cell_type": "code"
        },
        "ExecuteTime": {
          "start_time": "2023-08-20T08:13:57.866740+00:00",
          "end_time": "2023-08-20T08:13:58.030281+00:00"
        }
      },
      "id": "9b0fe0cf-6562-4d4a-a142-472c82a808d5"
    },
    {
      "cell_type": "code",
      "source": [
        "totals(total_letters_sv, writing_speeds[\"kirjoituskoneella\"], (16*365+7*30), 5.2)"
      ],
      "outputs": [
        {
          "output_type": "execute_result",
          "execution_count": null,
          "data": {
            "text/plain": "{'total_letters': 38414109,\n 'time_spent_in_days': 6050,\n 'daily_letters': 6349.439504132231,\n 'avg_word_length': 5.2,\n 'words_per_day': 1221.0460584869675,\n 'writing_speed_per_minute': 60,\n 'minutes_per_day': 20.35076764144946}"
          },
          "metadata": {}
        }
      ],
      "execution_count": null,
      "metadata": {
        "jupyter": {
          "source_hidden": false,
          "outputs_hidden": false
        },
        "noteable": {
          "cell_type": "code"
        },
        "ExecuteTime": {
          "start_time": "2023-08-20T07:24:06.974394+00:00",
          "end_time": "2023-08-20T07:24:07.135026+00:00"
        }
      },
      "id": "3d512918-cbb5-4246-8d58-82eb6a7a19e9"
    },
    {
      "cell_type": "code",
      "source": [
        "totals(total_letters_de, writing_speeds[\"kirjoituskoneella\"], (16*365+7*30), 5.2)"
      ],
      "outputs": [
        {
          "output_type": "execute_result",
          "execution_count": null,
          "data": {
            "text/plain": "{'total_letters': 50932012,\n 'time_spent_in_days': 6050,\n 'daily_letters': 8418.514380165288,\n 'avg_word_length': 5.2,\n 'words_per_day': 1618.9450731087093,\n 'writing_speed_per_minute': 60,\n 'minutes_per_day': 26.982417885145153}"
          },
          "metadata": {}
        }
      ],
      "execution_count": null,
      "metadata": {
        "jupyter": {
          "source_hidden": false,
          "outputs_hidden": false
        },
        "noteable": {
          "cell_type": "code"
        },
        "ExecuteTime": {
          "start_time": "2023-08-20T07:24:07.173339+00:00",
          "end_time": "2023-08-20T07:24:07.333914+00:00"
        }
      },
      "id": "15935e81-937b-4625-85f8-7f7c069efdbc"
    },
    {
      "cell_type": "markdown",
      "source": [
        "## Välilyöntien määrä\n",
        "\n",
        "Jos kirjaimia kirjoitetaan miljoona, niin kuinka monta välilyöntiä joudutaan painamaan näppäimistöltä?"
      ],
      "metadata": {
        "noteable": {
          "cell_type": "markdown"
        }
      },
      "id": "db5f854a-165c-4c81-81f9-5a5a8ba9c9cf"
    },
    {
      "cell_type": "code",
      "source": [
        "{\n",
        "    'fi': total_letters_fi - days_to_write_numbers_fi(spaces = False)[0],\n",
        "    'en': total_letters_en - days_to_write_numbers(lang='en', spaces = False)[0],\n",
        "    'sv': total_letters_sv - days_to_write_numbers(lang='sv', spaces = False)[0],\n",
        "    'de': total_letters_de - days_to_write_numbers(lang='de', spaces = False)[0],\n",
        "}"
      ],
      "outputs": [
        {
          "output_type": "execute_result",
          "execution_count": null,
          "data": {
            "text/plain": "{'fi': 997002, 'en': 7459903, 'sv': 899101, 'de': 1}"
          },
          "metadata": {}
        }
      ],
      "execution_count": null,
      "metadata": {
        "jupyter": {
          "outputs_hidden": false,
          "source_hidden": false
        },
        "noteable": {
          "cell_type": "code"
        },
        "ExecuteTime": {
          "start_time": "2023-08-20T07:24:07.374354+00:00",
          "end_time": "2023-08-20T07:34:53.789138+00:00"
        }
      },
      "id": "0fa2ec88-f320-4693-be1a-f677e5892bce"
    },
    {
      "cell_type": "markdown",
      "source": [
        "## Kirjainten kokonaismäärä suhteessa Suomen kieleen prosentteina"
      ],
      "metadata": {
        "noteable": {
          "cell_type": "markdown"
        }
      },
      "id": "6cbaab62-9250-40d0-a734-6dbfea75dcb0"
    },
    {
      "cell_type": "code",
      "source": [
        "def ratio_in_percents(a, b):\n",
        "    return 100-(a/b)*100\n",
        "\n",
        "{\n",
        "    'en/fi': ratio_in_percents(total_letters_en, total_letters_fi),\n",
        "    'sv/fi': ratio_in_percents(total_letters_sv, total_letters_fi),\n",
        "    'de/fi': ratio_in_percents(total_letters_de, total_letters_fi),\n",
        "}"
      ],
      "outputs": [
        {
          "output_type": "execute_result",
          "execution_count": null,
          "data": {
            "text/plain": "{'en/fi': 3.0700271486842468,\n 'sv/fi': 38.26481289135818,\n 'de/fi': 18.14733251682108}"
          },
          "metadata": {}
        }
      ],
      "execution_count": null,
      "metadata": {
        "jupyter": {
          "outputs_hidden": false,
          "source_hidden": false
        },
        "noteable": {
          "cell_type": "code"
        },
        "ExecuteTime": {
          "start_time": "2023-08-20T07:34:53.798259+00:00",
          "end_time": "2023-08-20T07:34:53.960237+00:00"
        }
      },
      "id": "69cb86fb-c437-4a83-89f3-59c123230954"
    },
    {
      "cell_type": "markdown",
      "source": [
        "## Vertaistesti `num2words` moduulin kanssa\n",
        "\n",
        "Osassa lukujen kirjoitut versiot eroavat num2words moduulin erilaisten välilyöntisääntöjen takia.\n",
        "\n",
        "Esimerkiksi:\n",
        "\n",
        "number_to_text(1785) -> `tuhatseitsemänsataakahdeksankymmentäviisi`\n",
        "\n",
        "num2words(1785) -> `tuhat seitsemänsataakahdeksankymmentäviisi`,"
      ],
      "metadata": {
        "noteable": {
          "cell_type": "markdown"
        }
      },
      "id": "83371d84-82e5-47d1-911b-a04e4c2c5b1b"
    },
    {
      "cell_type": "code",
      "source": [
        "import random\n",
        "\n",
        "# Testataan funktiota useammilla luvuilla kustakin suuruusluokasta\n",
        "test_numbers = [\n",
        "    3, 17, 29,  # Yksittäiset numerot\n",
        "    20, 45, 78,  # Kymmenet\n",
        "    100, 234, 567,  # Sadat\n",
        "    1000, 2345, 6789,  # Tuhannet\n",
        "    10000, 23456, 78901,  # Kymmenet tuhannet\n",
        "    100000, 234567, 890123,  # Sadat tuhannet\n",
        "    1000000, 2345678, 9012345,  # Miljoonat\n",
        "]\n",
        "\n",
        "# Lisätään satunnaisia testilukuja\n",
        "test_numbers.extend([random.randint(1, 9) for _ in range(3)])\n",
        "test_numbers.extend([random.randint(10, 99) for _ in range(3)])\n",
        "test_numbers.extend([random.randint(100, 999) for _ in range(3)])\n",
        "test_numbers.extend([random.randint(1000, 9999) for _ in range(3)])\n",
        "test_numbers.extend([random.randint(10000, 99999) for _ in range(3)])\n",
        "test_numbers.extend([random.randint(100000, 999999) for _ in range(3)])\n",
        "test_numbers.extend([random.randint(1000000, 9999999) for _ in range(3)])\n",
        "\n",
        "# Testitulokset\n",
        "def comp(x, y):\n",
        "    return x, y, 'TRUE' if x==y else 'FALSE'\n",
        "\n",
        "test_results = [(i, *(comp(number_to_text(i), num2words(i, lang='fi')))) for i in test_numbers]\n",
        "\n",
        "test_results"
      ],
      "outputs": [
        {
          "output_type": "execute_result",
          "execution_count": null,
          "data": {
            "text/plain": "[(3, 'kolme', 'kolme', 'TRUE'),\n (17, 'seitsemäntoista', 'seitsemäntoista', 'TRUE'),\n (29, 'kaksikymmentäyhdeksän', 'kaksikymmentäyhdeksän', 'TRUE'),\n (20, 'kaksikymmentä', 'kaksikymmentä', 'TRUE'),\n (45, 'neljäkymmentäviisi', 'neljäkymmentäviisi', 'TRUE'),\n (78, 'seitsemänkymmentäkahdeksan', 'seitsemänkymmentäkahdeksan', 'TRUE'),\n (100, 'sata', 'sata', 'TRUE'),\n (234, 'kaksisataakolmekymmentäneljä', 'kaksisataakolmekymmentäneljä', 'TRUE'),\n (567,\n  'viisisataakuusikymmentäseitsemän',\n  'viisisataakuusikymmentäseitsemän',\n  'TRUE'),\n (1000, 'tuhat', 'tuhat', 'TRUE'),\n (2345,\n  'kaksituhatta kolmesataaneljäkymmentäviisi',\n  'kaksituhatta kolmesataaneljäkymmentäviisi',\n  'TRUE'),\n (6789,\n  'kuusituhatta seitsemänsataakahdeksankymmentäyhdeksän',\n  'kuusituhatta seitsemänsataakahdeksankymmentäyhdeksän',\n  'TRUE'),\n (10000, 'kymmenentuhatta', 'kymmenentuhatta', 'TRUE'),\n (23456,\n  'kaksikymmentäkolmetuhatta neljäsataaviisikymmentäkuusi',\n  'kaksikymmentäkolmetuhatta neljäsataaviisikymmentäkuusi',\n  'TRUE'),\n (78901,\n  'seitsemänkymmentäkahdeksantuhatta yhdeksänsataayksi',\n  'seitsemänkymmentäkahdeksantuhatta yhdeksänsataayksi',\n  'TRUE'),\n (100000, 'satatuhatta', 'satatuhatta', 'TRUE'),\n (234567,\n  'kaksisataakolmekymmentäneljätuhatta viisisataakuusikymmentäseitsemän',\n  'kaksisataakolmekymmentäneljätuhatta viisisataakuusikymmentäseitsemän',\n  'TRUE'),\n (890123,\n  'kahdeksansataayhdeksänkymmentätuhatta satakaksikymmentäkolme',\n  'kahdeksansataayhdeksänkymmentätuhatta satakaksikymmentäkolme',\n  'TRUE'),\n (1000000, 'miljoona', 'miljoona', 'TRUE'),\n (2345678,\n  'kaksimiljoonaa kolmesataaneljäkymmentäviisituhatta kuusisataaseitsemänkymmentäkahdeksan',\n  'kaksimiljoonaa kolmesataaneljäkymmentäviisituhatta kuusisataaseitsemänkymmentäkahdeksan',\n  'TRUE'),\n (9012345,\n  'yhdeksänmiljoonaa kaksitoistatuhatta kolmesataaneljäkymmentäviisi',\n  'yhdeksänmiljoonaa kaksitoistatuhatta kolmesataaneljäkymmentäviisi',\n  'TRUE'),\n (4, 'neljä', 'neljä', 'TRUE'),\n (3, 'kolme', 'kolme', 'TRUE'),\n (7, 'seitsemän', 'seitsemän', 'TRUE'),\n (66, 'kuusikymmentäkuusi', 'kuusikymmentäkuusi', 'TRUE'),\n (51, 'viisikymmentäyksi', 'viisikymmentäyksi', 'TRUE'),\n (54, 'viisikymmentäneljä', 'viisikymmentäneljä', 'TRUE'),\n (298,\n  'kaksisataayhdeksänkymmentäkahdeksan',\n  'kaksisataayhdeksänkymmentäkahdeksan',\n  'TRUE'),\n (489,\n  'neljäsataakahdeksankymmentäyhdeksän',\n  'neljäsataakahdeksankymmentäyhdeksän',\n  'TRUE'),\n (449,\n  'neljäsataaneljäkymmentäyhdeksän',\n  'neljäsataaneljäkymmentäyhdeksän',\n  'TRUE'),\n (8454,\n  'kahdeksantuhatta neljäsataaviisikymmentäneljä',\n  'kahdeksantuhatta neljäsataaviisikymmentäneljä',\n  'TRUE'),\n (3029,\n  'kolmetuhatta kaksikymmentäyhdeksän',\n  'kolmetuhatta kaksikymmentäyhdeksän',\n  'TRUE'),\n (1785,\n  'tuhatseitsemänsataakahdeksankymmentäviisi',\n  'tuhat seitsemänsataakahdeksankymmentäviisi',\n  'FALSE'),\n (20792,\n  'kaksikymmentätuhatta seitsemänsataayhdeksänkymmentäkaksi',\n  'kaksikymmentätuhatta seitsemänsataayhdeksänkymmentäkaksi',\n  'TRUE'),\n (61079,\n  'kuusikymmentäyksituhatta seitsemänkymmentäyhdeksän',\n  'kuusikymmentäyksituhatta seitsemänkymmentäyhdeksän',\n  'TRUE'),\n (97886,\n  'yhdeksänkymmentäseitsemäntuhatta kahdeksansataakahdeksankymmentäkuusi',\n  'yhdeksänkymmentäseitsemäntuhatta kahdeksansataakahdeksankymmentäkuusi',\n  'TRUE'),\n (633209,\n  'kuusisataakolmekymmentäkolmetuhatta kaksisataayhdeksän',\n  'kuusisataakolmekymmentäkolmetuhatta kaksisataayhdeksän',\n  'TRUE'),\n (420200,\n  'neljäsataakaksikymmentätuhatta kaksisataa',\n  'neljäsataakaksikymmentätuhatta kaksisataa',\n  'TRUE'),\n (979513,\n  'yhdeksänsataaseitsemänkymmentäyhdeksäntuhatta viisisataakolmetoista',\n  'yhdeksänsataaseitsemänkymmentäyhdeksäntuhatta viisisataakolmetoista',\n  'TRUE'),\n (2028844,\n  'kaksimiljoonaa kaksikymmentäkahdeksantuhatta kahdeksansataaneljäkymmentäneljä',\n  'kaksimiljoonaa kaksikymmentäkahdeksantuhatta kahdeksansataaneljäkymmentäneljä',\n  'TRUE'),\n (7671024,\n  'seitsemänmiljoonaa kuusisataaseitsemänkymmentäyksituhatta kaksikymmentäneljä',\n  'seitsemänmiljoonaa kuusisataaseitsemänkymmentäyksituhatta kaksikymmentäneljä',\n  'TRUE'),\n (4717382,\n  'neljämiljoonaa seitsemänsataaseitsemäntoistatuhatta kolmesataakahdeksankymmentäkaksi',\n  'neljämiljoonaa seitsemänsataaseitsemäntoistatuhatta kolmesataakahdeksankymmentäkaksi',\n  'TRUE')]"
          },
          "metadata": {}
        }
      ],
      "execution_count": null,
      "metadata": {
        "jupyter": {
          "outputs_hidden": false,
          "source_hidden": false
        },
        "noteable": {
          "cell_type": "code"
        },
        "ExecuteTime": {
          "start_time": "2023-08-20T06:15:14.468027+00:00",
          "end_time": "2023-08-20T06:15:14.648707+00:00"
        }
      },
      "id": "7ae5aba2-2231-4ec8-bf85-68db317a514e"
    },
    {
      "cell_type": "markdown",
      "source": [
        "## Keskimääräinen numerosanojen pituus"
      ],
      "metadata": {
        "noteable": {
          "cell_type": "markdown"
        }
      },
      "id": "6b59644b-44bb-4b9d-94a8-1e94b05a3e36"
    },
    {
      "cell_type": "code",
      "source": [
        "#5 in normal speech (5.2 for finnish), but here we count only numerical values, which tend to be long words, very long in Finnish and German\n",
        "{\n",
        "    'fi': avg_word_length_up_to_n(100000, lambda x: number_to_text(x)),\n",
        "    'en': avg_word_length_up_to_n(100000, lambda x: num2words(x, lang='en')),\n",
        "    'sv': avg_word_length_up_to_n(100000, lambda x: num2words(x, lang='sv')),\n",
        "    'de': avg_word_length_up_to_n(100000, lambda x: num2words(x, lang='de'))\n",
        "}"
      ],
      "outputs": [
        {
          "output_type": "execute_result",
          "execution_count": null,
          "data": {
            "text/plain": "{'fi': 26.078619720871945,\n 'en': 6.980019239317664,\n 'sv': 15.425774722369116,\n 'de': 40.76017}"
          },
          "metadata": {}
        }
      ],
      "execution_count": null,
      "metadata": {
        "jupyter": {
          "outputs_hidden": false,
          "source_hidden": false
        },
        "noteable": {
          "cell_type": "code"
        },
        "ExecuteTime": {
          "start_time": "2023-08-20T06:12:40.901061+00:00",
          "end_time": "2023-08-20T06:13:31.605135+00:00"
        }
      },
      "id": "d8a2a177-7fda-4d0a-bd29-8df66edee5e9"
    },
    {
      "cell_type": "markdown",
      "source": [
        "## Luku 983572 suomeksi, englanniksi, ruotsiksi ja saksaksi"
      ],
      "metadata": {
        "noteable": {
          "cell_type": "markdown"
        }
      },
      "id": "582bd471-2b4a-4be3-8e89-d99f7a1abd16"
    },
    {
      "cell_type": "code",
      "source": [
        "{\n",
        "    'fi': number_to_text(983572),\n",
        "    'en': num2words(983572, lang='en'),\n",
        "    'sv': num2words(983572, lang='sv'),\n",
        "    'de': num2words(983572, lang='de')\n",
        "}"
      ],
      "outputs": [
        {
          "output_type": "execute_result",
          "execution_count": null,
          "data": {
            "text/plain": "{'fi': 'yhdeksänsataakahdeksankymmentäkolmetuhatta viisisataaseitsemänkymmentäkaksi',\n 'en': 'nine hundred and eighty-three thousand, five hundred and seventy-two',\n 'sv': 'niohundraåttiotretusen femhundrasjuttiotvå',\n 'de': 'neunhundertdreiundachtzigtausendfünfhundertzweiundsiebzig'}"
          },
          "metadata": {}
        }
      ],
      "execution_count": null,
      "metadata": {
        "jupyter": {
          "source_hidden": false,
          "outputs_hidden": false
        },
        "noteable": {
          "cell_type": "code"
        },
        "ExecuteTime": {
          "start_time": "2023-08-20T06:30:17.467372+00:00",
          "end_time": "2023-08-20T06:30:17.627887+00:00"
        }
      },
      "id": "8a5d8029-f985-4364-945a-1d11be992d54"
    }
  ],
  "metadata": {
    "noteable-chatgpt": {
      "create_notebook": {
        "openai_conversation_id": "83fd9abc-10fc-58bb-96c1-12be7d87aac3",
        "openai_ephemeral_user_id": "18e74730-0e97-50a6-9c3b-4f30ca637c78",
        "openai_subdivision1_iso_code": "FI-18"
      }
    },
    "kernel_info": {
      "name": "python3"
    },
    "noteable": {
      "last_transaction_id": "3b5d0c7e-2538-4c84-8cc3-3216ab2dc879",
      "last_delta_id": "d6e05861-c61b-45a8-9a58-31f54434ab79"
    },
    "kernelspec": {
      "name": "python3",
      "display_name": "Python 3.9",
      "language": "python"
    },
    "selected_hardware_size": "small",
    "nteract": {
      "version": "noteable@2.9.0"
    }
  },
  "nbformat": 4,
  "nbformat_minor": 5
}
